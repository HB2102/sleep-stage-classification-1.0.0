{
 "cells": [
  {
   "cell_type": "code",
   "execution_count": null,
   "id": "9fe74381",
   "metadata": {},
   "outputs": [],
   "source": [
    "import numpy as np\n",
    "import matplotlib.pyplot as plt\n",
    "from utils.reader import read_record\n",
    "\n",
    "# مسیر فایل‌ها\n",
    "psg_file = \"data/raw/SC4001E0-PSG.edf\"\n",
    "hypnogram_file = \"data/raw/SC4001EC-Hypnogram.edf\"\n",
    "\n",
    "# خواندن سیگنال EEG و برچسب‌ها\n",
    "raw, events = read_record(psg_file, hypnogram_file)\n",
    "signal = raw.get_data()[0]  # فقط یک کانال EEG (مثلاً Fpz-Cz)\n",
    "sfreq = raw.info['sfreq']\n",
    "print(f\"Sampling rate: {sfreq} Hz\")\n",
    "\n",
    "# تنظیمات epoch\n",
    "epoch_duration = 30  # seconds\n",
    "samples_per_epoch = int(epoch_duration * sfreq)\n",
    "n_epochs = len(events)\n",
    "print(f\"Epochs: {n_epochs}, Samples per epoch: {samples_per_epoch}\")"
   ]
  }
 ],
 "metadata": {
  "language_info": {
   "name": "python"
  }
 },
 "nbformat": 4,
 "nbformat_minor": 5
}
