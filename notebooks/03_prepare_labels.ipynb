{
 "cells": [
  {
   "cell_type": "code",
   "execution_count": 1,
   "id": "34590b4f",
   "metadata": {},
   "outputs": [
    {
     "name": "stdout",
     "output_type": "stream",
     "text": [
      "101 labels saved to ../data/spectrograms/SC4001E0\\labels.json\n"
     ]
    }
   ],
   "source": [
    "import numpy as np\n",
    "import json\n",
    "import os\n",
    "\n",
    "data_path = \"../data/processed/SC4001E0_data.npz\"\n",
    "spectrogram_dir = \"../data/spectrograms/SC4001E0\"\n",
    "label_output_file = os.path.join(spectrogram_dir, \"labels.json\")\n",
    "\n",
    "data = np.load(data_path)\n",
    "X = data[\"X\"]\n",
    "y = data[\"y\"]\n",
    "\n",
    "num_epochs = len([\n",
    "    f for f in os.listdir(spectrogram_dir)\n",
    "    if f.endswith(\".png\")\n",
    "])\n",
    "\n",
    "label_dict = {\n",
    "    f\"epoch_{i:04d}.png\": int(y[i])\n",
    "    for i in range(num_epochs)\n",
    "}\n",
    "\n",
    "with open(label_output_file, \"w\") as f:\n",
    "    json.dump(label_dict, f)\n",
    "\n",
    "print(f\"{len(label_dict)} labels saved to {label_output_file}\")\n"
   ]
  },
  {
   "cell_type": "code",
   "execution_count": 2,
   "id": "c6e23816",
   "metadata": {},
   "outputs": [
    {
     "name": "stdout",
     "output_type": "stream",
     "text": [
      "[('epoch_0000.png', 0), ('epoch_0001.png', 1), ('epoch_0002.png', 2), ('epoch_0003.png', 3), ('epoch_0004.png', 2)]\n"
     ]
    }
   ],
   "source": [
    "import json\n",
    "with open(label_output_file, \"r\") as f:\n",
    "    labels = json.load(f)\n",
    "\n",
    "print(list(labels.items())[:5])"
   ]
  },
  {
   "cell_type": "code",
   "execution_count": null,
   "id": "05df7aef",
   "metadata": {},
   "outputs": [],
   "source": []
  }
 ],
 "metadata": {
  "kernelspec": {
   "display_name": ".venv",
   "language": "python",
   "name": "python3"
  },
  "language_info": {
   "codemirror_mode": {
    "name": "ipython",
    "version": 3
   },
   "file_extension": ".py",
   "mimetype": "text/x-python",
   "name": "python",
   "nbconvert_exporter": "python",
   "pygments_lexer": "ipython3",
   "version": "3.12.8"
  }
 },
 "nbformat": 4,
 "nbformat_minor": 5
}
