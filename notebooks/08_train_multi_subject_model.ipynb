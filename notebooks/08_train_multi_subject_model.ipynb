{
 "cells": [
  {
   "cell_type": "code",
   "execution_count": 13,
   "id": "d3594375",
   "metadata": {},
   "outputs": [],
   "source": [
    "import os\n",
    "import random\n",
    "import sys\n",
    "sys.path.append(\"../utils\")\n",
    "from dataset import create_combined_sequence_dataset\n",
    "import sys\n",
    "sys.path.append(\"../models\")\n",
    "from eegsnet import build_eegsnet\n",
    "import tensorflow as tf\n",
    "import matplotlib.pyplot as plt\n"
   ]
  },
  {
   "cell_type": "code",
   "execution_count": 14,
   "id": "0e7be5c2",
   "metadata": {},
   "outputs": [
    {
     "name": "stdout",
     "output_type": "stream",
     "text": [
      "Train: 122 Val: 31\n"
     ]
    }
   ],
   "source": [
    "all_subjects = sorted([\n",
    "    name for name in os.listdir(\"../data/spectrograms\")\n",
    "    if name.startswith(\"SC\") and os.path.isfile(os.path.join(\"../data/spectrograms\", name, \"labels.json\"))\n",
    "])\n",
    "\n",
    "random.seed(42)\n",
    "random.shuffle(all_subjects)\n",
    "\n",
    "split_idx = int(0.8 * len(all_subjects))\n",
    "train_subjects = all_subjects[:split_idx]\n",
    "val_subjects = all_subjects[split_idx:]\n",
    "\n",
    "print(\"Train:\", len(train_subjects), \"Val:\", len(val_subjects))\n"
   ]
  },
  {
   "cell_type": "code",
   "execution_count": 15,
   "id": "9f3ba87d",
   "metadata": {},
   "outputs": [],
   "source": [
    "train_ds = create_combined_sequence_dataset(train_subjects, sequence_length=10, batch_size=16)\n",
    "val_ds = create_combined_sequence_dataset(val_subjects, sequence_length=10, batch_size=16, shuffle=False)\n"
   ]
  },
  {
   "cell_type": "code",
   "execution_count": 16,
   "id": "80bbea60",
   "metadata": {},
   "outputs": [],
   "source": [
    "model = build_eegsnet(input_shape=(60, 76, 3), sequence_length=10, num_classes=5)\n",
    "\n",
    "loss_fn = tf.keras.losses.SparseCategoricalCrossentropy()\n",
    "\n",
    "model.compile(\n",
    "    optimizer='adam',\n",
    "    loss={'main_output': loss_fn, 'aux_output': loss_fn},\n",
    "    loss_weights={'main_output': 1.0, 'aux_output': 0.5},\n",
    "    metrics={'main_output': 'accuracy', 'aux_output': 'accuracy'}\n",
    ")\n"
   ]
  },
  {
   "cell_type": "code",
   "execution_count": 17,
   "id": "248198a6",
   "metadata": {},
   "outputs": [
    {
     "name": "stdout",
     "output_type": "stream",
     "text": [
      "Epoch 1/20\n",
      "   1023/Unknown \u001b[1m270s\u001b[0m 197ms/step - aux_output_accuracy: 0.2922 - aux_output_loss: 1.5773 - loss: 2.3084 - main_output_accuracy: 0.2950 - main_output_loss: 1.5198"
     ]
    },
    {
     "name": "stderr",
     "output_type": "stream",
     "text": [
      "d:\\UNI\\پروژه پایانی\\Sleep Stage Project 1.0\\.venv\\Lib\\site-packages\\keras\\src\\trainers\\epoch_iterator.py:160: UserWarning: Your input ran out of data; interrupting training. Make sure that your dataset or generator can generate at least `steps_per_epoch * epochs` batches. You may need to use the `.repeat()` function when building your dataset.\n",
      "  self._interrupted_warning()\n"
     ]
    },
    {
     "name": "stdout",
     "output_type": "stream",
     "text": [
      "\u001b[1m1023/1023\u001b[0m \u001b[32m━━━━━━━━━━━━━━━━━━━━\u001b[0m\u001b[37m\u001b[0m \u001b[1m299s\u001b[0m 225ms/step - aux_output_accuracy: 0.2922 - aux_output_loss: 1.5772 - loss: 2.3083 - main_output_accuracy: 0.2950 - main_output_loss: 1.5197 - val_aux_output_accuracy: 0.2686 - val_aux_output_loss: 1.6211 - val_loss: 2.7553 - val_main_output_accuracy: 0.2463 - val_main_output_loss: 1.9334\n",
      "Epoch 2/20\n",
      "\u001b[1m1023/1023\u001b[0m \u001b[32m━━━━━━━━━━━━━━━━━━━━\u001b[0m\u001b[37m\u001b[0m \u001b[1m286s\u001b[0m 250ms/step - aux_output_accuracy: 0.4318 - aux_output_loss: 1.3396 - loss: 1.9497 - main_output_accuracy: 0.4416 - main_output_loss: 1.2799 - val_aux_output_accuracy: 0.2475 - val_aux_output_loss: 2.7437 - val_loss: 4.3085 - val_main_output_accuracy: 0.2358 - val_main_output_loss: 2.9183\n",
      "Epoch 3/20\n",
      "\u001b[1m1023/1023\u001b[0m \u001b[32m━━━━━━━━━━━━━━━━━━━━\u001b[0m\u001b[37m\u001b[0m \u001b[1m266s\u001b[0m 230ms/step - aux_output_accuracy: 0.8395 - aux_output_loss: 0.4549 - loss: 0.4656 - main_output_accuracy: 0.9208 - main_output_loss: 0.2382 - val_aux_output_accuracy: 0.2515 - val_aux_output_loss: 4.5007 - val_loss: 6.1970 - val_main_output_accuracy: 0.2423 - val_main_output_loss: 3.9225\n",
      "Epoch 4/20\n",
      "\u001b[1m1023/1023\u001b[0m \u001b[32m━━━━━━━━━━━━━━━━━━━━\u001b[0m\u001b[37m\u001b[0m \u001b[1m273s\u001b[0m 235ms/step - aux_output_accuracy: 0.9047 - aux_output_loss: 0.2897 - loss: 0.2775 - main_output_accuracy: 0.9571 - main_output_loss: 0.1326 - val_aux_output_accuracy: 0.2445 - val_aux_output_loss: 5.1517 - val_loss: 7.1660 - val_main_output_accuracy: 0.2434 - val_main_output_loss: 4.5594\n",
      "Epoch 5/20\n",
      "\u001b[1m1023/1023\u001b[0m \u001b[32m━━━━━━━━━━━━━━━━━━━━\u001b[0m\u001b[37m\u001b[0m \u001b[1m268s\u001b[0m 230ms/step - aux_output_accuracy: 0.9378 - aux_output_loss: 0.1857 - loss: 0.1644 - main_output_accuracy: 0.9776 - main_output_loss: 0.0715 - val_aux_output_accuracy: 0.2444 - val_aux_output_loss: 5.7088 - val_loss: 7.8375 - val_main_output_accuracy: 0.2385 - val_main_output_loss: 4.9475\n",
      "Epoch 6/20\n",
      "\u001b[1m1023/1023\u001b[0m \u001b[32m━━━━━━━━━━━━━━━━━━━━\u001b[0m\u001b[37m\u001b[0m \u001b[1m289s\u001b[0m 252ms/step - aux_output_accuracy: 0.9768 - aux_output_loss: 0.0667 - loss: 0.0529 - main_output_accuracy: 0.9940 - main_output_loss: 0.0195 - val_aux_output_accuracy: 0.2551 - val_aux_output_loss: 5.4674 - val_loss: 7.5306 - val_main_output_accuracy: 0.2553 - val_main_output_loss: 4.7638\n",
      "Epoch 7/20\n",
      "\u001b[1m1023/1023\u001b[0m \u001b[32m━━━━━━━━━━━━━━━━━━━━\u001b[0m\u001b[37m\u001b[0m \u001b[1m338s\u001b[0m 300ms/step - aux_output_accuracy: 0.9357 - aux_output_loss: 0.1991 - loss: 0.1780 - main_output_accuracy: 0.9753 - main_output_loss: 0.0785 - val_aux_output_accuracy: 0.2449 - val_aux_output_loss: 6.0021 - val_loss: 8.3482 - val_main_output_accuracy: 0.2459 - val_main_output_loss: 5.3209\n",
      "Epoch 8/20\n",
      "\u001b[1m1023/1023\u001b[0m \u001b[32m━━━━━━━━━━━━━━━━━━━━\u001b[0m\u001b[37m\u001b[0m \u001b[1m302s\u001b[0m 264ms/step - aux_output_accuracy: 0.9271 - aux_output_loss: 0.2398 - loss: 0.2256 - main_output_accuracy: 0.9670 - main_output_loss: 0.1058 - val_aux_output_accuracy: 0.2414 - val_aux_output_loss: 5.9330 - val_loss: 8.2800 - val_main_output_accuracy: 0.2385 - val_main_output_loss: 5.2868\n",
      "Epoch 9/20\n",
      "\u001b[1m1023/1023\u001b[0m \u001b[32m━━━━━━━━━━━━━━━━━━━━\u001b[0m\u001b[37m\u001b[0m \u001b[1m457s\u001b[0m 383ms/step - aux_output_accuracy: 0.9468 - aux_output_loss: 0.1682 - loss: 0.1498 - main_output_accuracy: 0.9803 - main_output_loss: 0.0657 - val_aux_output_accuracy: 0.2308 - val_aux_output_loss: 6.2885 - val_loss: 8.5693 - val_main_output_accuracy: 0.2360 - val_main_output_loss: 5.3982\n",
      "Epoch 10/20\n",
      "\u001b[1m1023/1023\u001b[0m \u001b[32m━━━━━━━━━━━━━━━━━━━━\u001b[0m\u001b[37m\u001b[0m \u001b[1m404s\u001b[0m 336ms/step - aux_output_accuracy: 0.9294 - aux_output_loss: 0.2328 - loss: 0.2129 - main_output_accuracy: 0.9707 - main_output_loss: 0.0965 - val_aux_output_accuracy: 0.2559 - val_aux_output_loss: 5.9742 - val_loss: 8.3389 - val_main_output_accuracy: 0.2428 - val_main_output_loss: 5.3254\n",
      "Epoch 11/20\n",
      "\u001b[1m1023/1023\u001b[0m \u001b[32m━━━━━━━━━━━━━━━━━━━━\u001b[0m\u001b[37m\u001b[0m \u001b[1m322s\u001b[0m 286ms/step - aux_output_accuracy: 0.9666 - aux_output_loss: 0.0985 - loss: 0.0798 - main_output_accuracy: 0.9907 - main_output_loss: 0.0306 - val_aux_output_accuracy: 0.2519 - val_aux_output_loss: 6.5334 - val_loss: 9.0612 - val_main_output_accuracy: 0.2435 - val_main_output_loss: 5.7643\n",
      "Epoch 12/20\n",
      "\u001b[1m1023/1023\u001b[0m \u001b[32m━━━━━━━━━━━━━━━━━━━━\u001b[0m\u001b[37m\u001b[0m \u001b[1m388s\u001b[0m 320ms/step - aux_output_accuracy: 0.9124 - aux_output_loss: 0.2981 - loss: 0.2853 - main_output_accuracy: 0.9603 - main_output_loss: 0.1362 - val_aux_output_accuracy: 0.2395 - val_aux_output_loss: 6.4299 - val_loss: 8.8220 - val_main_output_accuracy: 0.2381 - val_main_output_loss: 5.5804\n",
      "Epoch 13/20\n",
      "\u001b[1m1023/1023\u001b[0m \u001b[32m━━━━━━━━━━━━━━━━━━━━\u001b[0m\u001b[37m\u001b[0m \u001b[1m436s\u001b[0m 396ms/step - aux_output_accuracy: 0.9046 - aux_output_loss: 0.3254 - loss: 0.3252 - main_output_accuracy: 0.9514 - main_output_loss: 0.1625 - val_aux_output_accuracy: 0.2436 - val_aux_output_loss: 5.9240 - val_loss: 8.2160 - val_main_output_accuracy: 0.2415 - val_main_output_loss: 5.2358\n",
      "Epoch 14/20\n",
      "\u001b[1m1023/1023\u001b[0m \u001b[32m━━━━━━━━━━━━━━━━━━━━\u001b[0m\u001b[37m\u001b[0m \u001b[1m324s\u001b[0m 260ms/step - aux_output_accuracy: 0.9603 - aux_output_loss: 0.1209 - loss: 0.0987 - main_output_accuracy: 0.9881 - main_output_loss: 0.0382 - val_aux_output_accuracy: 0.2477 - val_aux_output_loss: 6.3275 - val_loss: 8.9303 - val_main_output_accuracy: 0.2521 - val_main_output_loss: 5.7469\n",
      "Epoch 15/20\n",
      "\u001b[1m1023/1023\u001b[0m \u001b[32m━━━━━━━━━━━━━━━━━━━━\u001b[0m\u001b[37m\u001b[0m \u001b[1m189s\u001b[0m 169ms/step - aux_output_accuracy: 0.9604 - aux_output_loss: 0.1277 - loss: 0.1140 - main_output_accuracy: 0.9864 - main_output_loss: 0.0502 - val_aux_output_accuracy: 0.2452 - val_aux_output_loss: 6.5832 - val_loss: 8.9547 - val_main_output_accuracy: 0.2415 - val_main_output_loss: 5.6395\n",
      "Epoch 16/20\n",
      "\u001b[1m1023/1023\u001b[0m \u001b[32m━━━━━━━━━━━━━━━━━━━━\u001b[0m\u001b[37m\u001b[0m \u001b[1m191s\u001b[0m 168ms/step - aux_output_accuracy: 0.9731 - aux_output_loss: 0.0832 - loss: 0.0672 - main_output_accuracy: 0.9924 - main_output_loss: 0.0256 - val_aux_output_accuracy: 0.2432 - val_aux_output_loss: 6.4987 - val_loss: 8.9723 - val_main_output_accuracy: 0.2476 - val_main_output_loss: 5.7003\n",
      "Epoch 17/20\n",
      "\u001b[1m1023/1023\u001b[0m \u001b[32m━━━━━━━━━━━━━━━━━━━━\u001b[0m\u001b[37m\u001b[0m \u001b[1m224s\u001b[0m 198ms/step - aux_output_accuracy: 0.9612 - aux_output_loss: 0.1270 - loss: 0.1076 - main_output_accuracy: 0.9869 - main_output_loss: 0.0441 - val_aux_output_accuracy: 0.2452 - val_aux_output_loss: 6.8228 - val_loss: 9.3451 - val_main_output_accuracy: 0.2422 - val_main_output_loss: 5.8976\n",
      "Epoch 18/20\n",
      "\u001b[1m1023/1023\u001b[0m \u001b[32m━━━━━━━━━━━━━━━━━━━━\u001b[0m\u001b[37m\u001b[0m \u001b[1m208s\u001b[0m 184ms/step - aux_output_accuracy: 0.9148 - aux_output_loss: 0.3030 - loss: 0.2845 - main_output_accuracy: 0.9617 - main_output_loss: 0.1330 - val_aux_output_accuracy: 0.2420 - val_aux_output_loss: 6.0169 - val_loss: 8.8235 - val_main_output_accuracy: 0.2340 - val_main_output_loss: 5.7804\n",
      "Epoch 19/20\n",
      "\u001b[1m1023/1023\u001b[0m \u001b[32m━━━━━━━━━━━━━━━━━━━━\u001b[0m\u001b[37m\u001b[0m \u001b[1m199s\u001b[0m 178ms/step - aux_output_accuracy: 0.9762 - aux_output_loss: 0.0693 - loss: 0.0555 - main_output_accuracy: 0.9939 - main_output_loss: 0.0208 - val_aux_output_accuracy: 0.2428 - val_aux_output_loss: 6.4876 - val_loss: 9.3009 - val_main_output_accuracy: 0.2434 - val_main_output_loss: 6.0262\n",
      "Epoch 20/20\n",
      "\u001b[1m1023/1023\u001b[0m \u001b[32m━━━━━━━━━━━━━━━━━━━━\u001b[0m\u001b[37m\u001b[0m \u001b[1m183s\u001b[0m 163ms/step - aux_output_accuracy: 0.9684 - aux_output_loss: 0.0984 - loss: 0.0816 - main_output_accuracy: 0.9905 - main_output_loss: 0.0324 - val_aux_output_accuracy: 0.2434 - val_aux_output_loss: 6.4906 - val_loss: 9.1601 - val_main_output_accuracy: 0.2457 - val_main_output_loss: 5.8797\n"
     ]
    }
   ],
   "source": [
    "history = model.fit(\n",
    "    train_ds,\n",
    "    validation_data=val_ds,\n",
    "    epochs=20\n",
    ")\n"
   ]
  },
  {
   "cell_type": "code",
   "execution_count": 18,
   "id": "7c784c78",
   "metadata": {},
   "outputs": [],
   "source": [
    "model.save(\"../models/eegsnet_multi_subject.keras\")\n"
   ]
  },
  {
   "cell_type": "code",
   "execution_count": 19,
   "id": "8a97fbe6",
   "metadata": {},
   "outputs": [
    {
     "data": {
      "image/png": "[encoded data removed]",
      "text/plain": [
       "<Figure size 640x480 with 1 Axes>"
      ]
     },
     "metadata": {},
     "output_type": "display_data"
    }
   ],
   "source": [
    "plt.plot(history.history['main_output_accuracy'], label=\"Train Acc\")\n",
    "plt.plot(history.history['val_main_output_accuracy'], label=\"Val Acc\")\n",
    "plt.legend()\n",
    "plt.show()"
   ]
  }
 ],
 "metadata": {
  "kernelspec": {
   "display_name": ".venv",
   "language": "python",
   "name": "python3"
  },
  "language_info": {
   "codemirror_mode": {
    "name": "ipython",
    "version": 3
   },
   "file_extension": ".py",
   "mimetype": "text/x-python",
   "name": "python",
   "nbconvert_exporter": "python",
   "pygments_lexer": "ipython3",
   "version": "3.12.8"
  }
 },
 "nbformat": 4,
 "nbformat_minor": 5
}
