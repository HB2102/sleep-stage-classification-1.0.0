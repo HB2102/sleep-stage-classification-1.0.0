{
 "cells": [
  {
   "cell_type": "code",
   "execution_count": 6,
   "id": "0b09b4eb",
   "metadata": {},
   "outputs": [],
   "source": [
    "import os\n",
    "\n",
    "save_path = '../data/spectrograms/SC4001E0'\n",
    "os.makedirs(save_path, exist_ok=True)"
   ]
  },
  {
   "cell_type": "code",
   "execution_count": 9,
   "id": "82be199e",
   "metadata": {},
   "outputs": [],
   "source": [
    "from scipy.signal import spectrogram\n",
    "from PIL import Image\n",
    "import matplotlib.pyplot as plt\n",
    "import io\n",
    "import numpy as np\n",
    "\n",
    "def save_spectrogram(epoch, save_file, fs=64):\n",
    "    f, t, Sxx = spectrogram(epoch, fs=fs, nperseg=128, noverlap=64)\n",
    "\n",
    "    fig = plt.figure(figsize=(1, 0.8), dpi=100)\n",
    "    ax = fig.add_axes([0, 0, 1, 1]) \n",
    "    ax.axis('off')\n",
    "    ax.pcolormesh(t, f, 10 * np.log10(Sxx), shading='gouraud', cmap='viridis')\n",
    "    ax.set_ylim(0, 32)\n",
    "\n",
    "    buf = io.BytesIO()\n",
    "    plt.savefig(buf, format='png', dpi=100)\n",
    "    buf.seek(0)\n",
    "\n",
    "    im = Image.open(buf).convert('RGB')\n",
    "    im = im.resize((76, 60))  \n",
    "    im.save(save_file)\n",
    "    plt.close(fig)"
   ]
  },
  {
   "cell_type": "code",
   "execution_count": 11,
   "id": "df63a299",
   "metadata": {},
   "outputs": [
    {
     "name": "stdout",
     "output_type": "stream",
     "text": [
      "X shape: (154, 1920)\n",
      "y shape: (154,)\n"
     ]
    }
   ],
   "source": [
    "import numpy as np\n",
    "\n",
    "data = np.load(\"../data/processed/SC4001E0_data.npz\")\n",
    "X = data['X']\n",
    "y = data['y']\n",
    "\n",
    "print(\"X shape:\", X.shape)\n",
    "print(\"y shape:\", y.shape)"
   ]
  },
  {
   "cell_type": "code",
   "execution_count": 12,
   "id": "68e2243c",
   "metadata": {},
   "outputs": [
    {
     "name": "stdout",
     "output_type": "stream",
     "text": [
      "file created: ../data/spectrograms/SC4001E0\\epoch_0000.png\n",
      "file created: ../data/spectrograms/SC4001E0\\epoch_0001.png\n",
      "file created: ../data/spectrograms/SC4001E0\\epoch_0002.png\n",
      "file created: ../data/spectrograms/SC4001E0\\epoch_0003.png\n",
      "file created: ../data/spectrograms/SC4001E0\\epoch_0004.png\n",
      "file created: ../data/spectrograms/SC4001E0\\epoch_0005.png\n",
      "file created: ../data/spectrograms/SC4001E0\\epoch_0006.png\n",
      "file created: ../data/spectrograms/SC4001E0\\epoch_0007.png\n",
      "file created: ../data/spectrograms/SC4001E0\\epoch_0008.png\n",
      "file created: ../data/spectrograms/SC4001E0\\epoch_0009.png\n",
      "file created: ../data/spectrograms/SC4001E0\\epoch_0010.png\n",
      "file created: ../data/spectrograms/SC4001E0\\epoch_0011.png\n",
      "file created: ../data/spectrograms/SC4001E0\\epoch_0012.png\n",
      "file created: ../data/spectrograms/SC4001E0\\epoch_0013.png\n",
      "file created: ../data/spectrograms/SC4001E0\\epoch_0014.png\n",
      "file created: ../data/spectrograms/SC4001E0\\epoch_0015.png\n",
      "file created: ../data/spectrograms/SC4001E0\\epoch_0016.png\n",
      "file created: ../data/spectrograms/SC4001E0\\epoch_0017.png\n",
      "file created: ../data/spectrograms/SC4001E0\\epoch_0018.png\n",
      "file created: ../data/spectrograms/SC4001E0\\epoch_0019.png\n",
      "file created: ../data/spectrograms/SC4001E0\\epoch_0020.png\n",
      "file created: ../data/spectrograms/SC4001E0\\epoch_0021.png\n",
      "file created: ../data/spectrograms/SC4001E0\\epoch_0022.png\n",
      "file created: ../data/spectrograms/SC4001E0\\epoch_0023.png\n",
      "file created: ../data/spectrograms/SC4001E0\\epoch_0024.png\n",
      "file created: ../data/spectrograms/SC4001E0\\epoch_0025.png\n",
      "file created: ../data/spectrograms/SC4001E0\\epoch_0026.png\n",
      "file created: ../data/spectrograms/SC4001E0\\epoch_0027.png\n",
      "file created: ../data/spectrograms/SC4001E0\\epoch_0028.png\n",
      "file created: ../data/spectrograms/SC4001E0\\epoch_0029.png\n",
      "file created: ../data/spectrograms/SC4001E0\\epoch_0030.png\n",
      "file created: ../data/spectrograms/SC4001E0\\epoch_0031.png\n",
      "file created: ../data/spectrograms/SC4001E0\\epoch_0032.png\n",
      "file created: ../data/spectrograms/SC4001E0\\epoch_0033.png\n",
      "file created: ../data/spectrograms/SC4001E0\\epoch_0034.png\n",
      "file created: ../data/spectrograms/SC4001E0\\epoch_0035.png\n",
      "file created: ../data/spectrograms/SC4001E0\\epoch_0036.png\n",
      "file created: ../data/spectrograms/SC4001E0\\epoch_0037.png\n",
      "file created: ../data/spectrograms/SC4001E0\\epoch_0038.png\n",
      "file created: ../data/spectrograms/SC4001E0\\epoch_0039.png\n",
      "file created: ../data/spectrograms/SC4001E0\\epoch_0040.png\n",
      "file created: ../data/spectrograms/SC4001E0\\epoch_0041.png\n",
      "file created: ../data/spectrograms/SC4001E0\\epoch_0042.png\n",
      "file created: ../data/spectrograms/SC4001E0\\epoch_0043.png\n",
      "file created: ../data/spectrograms/SC4001E0\\epoch_0044.png\n",
      "file created: ../data/spectrograms/SC4001E0\\epoch_0045.png\n",
      "file created: ../data/spectrograms/SC4001E0\\epoch_0046.png\n",
      "file created: ../data/spectrograms/SC4001E0\\epoch_0047.png\n",
      "file created: ../data/spectrograms/SC4001E0\\epoch_0048.png\n",
      "file created: ../data/spectrograms/SC4001E0\\epoch_0049.png\n",
      "file created: ../data/spectrograms/SC4001E0\\epoch_0050.png\n",
      "file created: ../data/spectrograms/SC4001E0\\epoch_0051.png\n",
      "file created: ../data/spectrograms/SC4001E0\\epoch_0052.png\n",
      "file created: ../data/spectrograms/SC4001E0\\epoch_0053.png\n",
      "file created: ../data/spectrograms/SC4001E0\\epoch_0054.png\n",
      "file created: ../data/spectrograms/SC4001E0\\epoch_0055.png\n",
      "file created: ../data/spectrograms/SC4001E0\\epoch_0056.png\n",
      "file created: ../data/spectrograms/SC4001E0\\epoch_0057.png\n",
      "file created: ../data/spectrograms/SC4001E0\\epoch_0058.png\n",
      "file created: ../data/spectrograms/SC4001E0\\epoch_0059.png\n",
      "file created: ../data/spectrograms/SC4001E0\\epoch_0060.png\n",
      "file created: ../data/spectrograms/SC4001E0\\epoch_0061.png\n",
      "file created: ../data/spectrograms/SC4001E0\\epoch_0062.png\n",
      "file created: ../data/spectrograms/SC4001E0\\epoch_0063.png\n",
      "file created: ../data/spectrograms/SC4001E0\\epoch_0064.png\n",
      "file created: ../data/spectrograms/SC4001E0\\epoch_0065.png\n",
      "file created: ../data/spectrograms/SC4001E0\\epoch_0066.png\n",
      "file created: ../data/spectrograms/SC4001E0\\epoch_0067.png\n",
      "file created: ../data/spectrograms/SC4001E0\\epoch_0068.png\n",
      "file created: ../data/spectrograms/SC4001E0\\epoch_0069.png\n",
      "file created: ../data/spectrograms/SC4001E0\\epoch_0070.png\n",
      "file created: ../data/spectrograms/SC4001E0\\epoch_0071.png\n",
      "file created: ../data/spectrograms/SC4001E0\\epoch_0072.png\n",
      "file created: ../data/spectrograms/SC4001E0\\epoch_0073.png\n",
      "file created: ../data/spectrograms/SC4001E0\\epoch_0074.png\n",
      "file created: ../data/spectrograms/SC4001E0\\epoch_0075.png\n",
      "file created: ../data/spectrograms/SC4001E0\\epoch_0076.png\n",
      "file created: ../data/spectrograms/SC4001E0\\epoch_0077.png\n",
      "file created: ../data/spectrograms/SC4001E0\\epoch_0078.png\n",
      "file created: ../data/spectrograms/SC4001E0\\epoch_0079.png\n",
      "file created: ../data/spectrograms/SC4001E0\\epoch_0080.png\n",
      "file created: ../data/spectrograms/SC4001E0\\epoch_0081.png\n",
      "file created: ../data/spectrograms/SC4001E0\\epoch_0082.png\n",
      "file created: ../data/spectrograms/SC4001E0\\epoch_0083.png\n",
      "file created: ../data/spectrograms/SC4001E0\\epoch_0084.png\n",
      "file created: ../data/spectrograms/SC4001E0\\epoch_0085.png\n",
      "file created: ../data/spectrograms/SC4001E0\\epoch_0086.png\n",
      "file created: ../data/spectrograms/SC4001E0\\epoch_0087.png\n",
      "file created: ../data/spectrograms/SC4001E0\\epoch_0088.png\n",
      "file created: ../data/spectrograms/SC4001E0\\epoch_0089.png\n",
      "file created: ../data/spectrograms/SC4001E0\\epoch_0090.png\n",
      "file created: ../data/spectrograms/SC4001E0\\epoch_0091.png\n",
      "file created: ../data/spectrograms/SC4001E0\\epoch_0092.png\n",
      "file created: ../data/spectrograms/SC4001E0\\epoch_0093.png\n",
      "file created: ../data/spectrograms/SC4001E0\\epoch_0094.png\n",
      "file created: ../data/spectrograms/SC4001E0\\epoch_0095.png\n",
      "file created: ../data/spectrograms/SC4001E0\\epoch_0096.png\n",
      "file created: ../data/spectrograms/SC4001E0\\epoch_0097.png\n",
      "file created: ../data/spectrograms/SC4001E0\\epoch_0098.png\n",
      "file created: ../data/spectrograms/SC4001E0\\epoch_0099.png\n"
     ]
    }
   ],
   "source": [
    "for i in range(100):\n",
    "    save_file = os.path.join(save_path, f\"epoch_{i:04d}.png\")\n",
    "    save_spectrogram(X[i], save_file)\n",
    "    print(f'file created: {save_file}')"
   ]
  },
  {
   "cell_type": "code",
   "execution_count": 13,
   "id": "b16b20b5",
   "metadata": {},
   "outputs": [
    {
     "data": {
      "image/png": "[encoded data removed]",
      "text/plain": [
       "<IPython.core.display.Image object>"
      ]
     },
     "metadata": {},
     "output_type": "display_data"
    }
   ],
   "source": [
    "from IPython.display import Image as IPImage, display\n",
    "\n",
    "display(IPImage(filename=os.path.join(save_path, 'epoch_0010.png')))"
   ]
  }
 ],
 "metadata": {
  "kernelspec": {
   "display_name": ".venv",
   "language": "python",
   "name": "python3"
  },
  "language_info": {
   "codemirror_mode": {
    "name": "ipython",
    "version": 3
   },
   "file_extension": ".py",
   "mimetype": "text/x-python",
   "name": "python",
   "nbconvert_exporter": "python",
   "pygments_lexer": "ipython3",
   "version": "3.12.8"
  }
 },
 "nbformat": 4,
 "nbformat_minor": 5
}
