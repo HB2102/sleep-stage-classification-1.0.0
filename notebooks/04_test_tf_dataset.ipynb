{
 "cells": [
  {
   "cell_type": "code",
   "execution_count": 2,
   "id": "5dcab15b",
   "metadata": {},
   "outputs": [
    {
     "name": "stdout",
     "output_type": "stream",
     "text": [
      "Image shape: (16, 60, 76, 3)\n",
      "Labels: [1 2 2 3 3 0 1 2 3 3 3 3 2 3 3 3]\n"
     ]
    }
   ],
   "source": [
    "import sys\n",
    "sys.path.append(\"../utils\")\n",
    "from dataset import create_dataset\n",
    "\n",
    "dataset = create_dataset(\n",
    "    image_dir=\"../data/spectrograms/SC4001E0\",\n",
    "    label_file=\"../data/spectrograms/SC4001E0/labels.json\",\n",
    "    batch_size=16\n",
    ")\n",
    "\n",
    "for batch in dataset.take(1):\n",
    "    images, labels = batch\n",
    "    print(\"Image shape:\", images.shape)   \n",
    "    print(\"Labels:\", labels.numpy())"
   ]
  },
  {
   "cell_type": "code",
   "execution_count": null,
   "id": "61362a15",
   "metadata": {},
   "outputs": [],
   "source": []
  }
 ],
 "metadata": {
  "kernelspec": {
   "display_name": ".venv",
   "language": "python",
   "name": "python3"
  },
  "language_info": {
   "codemirror_mode": {
    "name": "ipython",
    "version": 3
   },
   "file_extension": ".py",
   "mimetype": "text/x-python",
   "name": "python",
   "nbconvert_exporter": "python",
   "pygments_lexer": "ipython3",
   "version": "3.12.8"
  }
 },
 "nbformat": 4,
 "nbformat_minor": 5
}
